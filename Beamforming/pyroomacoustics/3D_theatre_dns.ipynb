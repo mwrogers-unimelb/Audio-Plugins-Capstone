{
 "cells": [
  {
   "cell_type": "code",
   "execution_count": null,
   "metadata": {},
   "outputs": [],
   "source": [
    "# BASIC 3D beamforming code: Delay and sum beamformer simulation for expensive rig\n",
    "\n",
    "import numpy as np\n",
    "import matplotlib.pyplot as plt\n",
    "import pyroomacoustics as pra\n",
    "\n",
    "### Effect of source frequency ###\n",
    "\n",
    "# Create a shoebox room of similar size to the theatre\n",
    "room1 = pra.ShoeBox([10, 20, 10])\n",
    "\n",
    "# Add a source on stage\n",
    "room1.add_source([5, 18, 3])\n",
    "\n",
    "# Create a linear array beamformer with 8 cardioid microphones\n",
    "# with angle 0 degrees and inter mic distance 10 cm\n",
    "R = pra.linear_3D_array(center=[5, 15, 3], M=8, phi=0, d=0.05)\n",
    "# mic_array = pra.beamforming.MicrophoneArray(R, room1.fs, directivity)\n",
    "mic_array = pra.Beamformer(R, room1.fs)\n",
    "room1.add_microphone_array(mic_array)\n",
    "\n",
    "# Now compute the delay and sum weights for the beamformer\n",
    "room1.mic_array.rake_delay_and_sum_weights(room1.sources[0][:1])\n",
    "\n",
    "# plot the room and resulting beamformer\n",
    "room1.plot(freq=[1000, 2000, 4000, 8000], img_order=0)\n",
    "plt.title('Effect of Source Frequency')\n",
    "plt.show()"
   ]
  },
  {
   "cell_type": "markdown",
   "metadata": {},
   "source": [
    "# 3D Algorithm Simulation\n",
    "\n",
    "Includes a variety of situations to test algorithms in a simulated theatre."
   ]
  },
  {
   "cell_type": "code",
   "execution_count": null,
   "metadata": {},
   "outputs": [],
   "source": [
    "import numpy as np\n",
    "import matplotlib.pyplot as plt\n",
    "import pyroomacoustics as pra"
   ]
  },
  {
   "cell_type": "markdown",
   "metadata": {},
   "source": [
    "### Build Theatre Environment\n",
    "\n",
    "Create polygonal room with a raised stage to simulate in."
   ]
  },
  {
   "cell_type": "code",
   "execution_count": null,
   "metadata": {},
   "outputs": [],
   "source": [
    "# build theatre env here"
   ]
  }
 ],
 "metadata": {
  "language_info": {
   "name": "python"
  }
 },
 "nbformat": 4,
 "nbformat_minor": 2
}
