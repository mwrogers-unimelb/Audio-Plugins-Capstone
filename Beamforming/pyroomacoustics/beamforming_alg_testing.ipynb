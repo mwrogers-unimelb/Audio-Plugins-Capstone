{
 "cells": [
  {
   "cell_type": "markdown",
   "metadata": {},
   "source": [
    "# 2D Algorithm Simulation\n",
    "\n",
    "Includes:\n",
    "\n",
    "- A 2D room simulation to model recording signals in a real environment\n",
    "- A variety of implementations of (2D) beamforming algorithms based on the recorded data"
   ]
  },
  {
   "cell_type": "code",
   "execution_count": 141,
   "metadata": {},
   "outputs": [],
   "source": [
    "import numpy as np\n",
    "import matplotlib.pyplot as plt\n",
    "import pyroomacoustics as pra\n",
    "from pyroomacoustics.directivities import (\n",
    "    DirectivityPattern,\n",
    "    DirectionVector,\n",
    "    CardioidFamily,\n",
    ")\n",
    "from scipy.io import wavfile\n",
    "from playsound import playsound"
   ]
  },
  {
   "cell_type": "markdown",
   "metadata": {},
   "source": [
    "### Build Theatre Environment\n",
    "\n",
    "Create shoebox room of similar size and characteristics to theatre to simulate in."
   ]
  },
  {
   "cell_type": "code",
   "execution_count": 142,
   "metadata": {},
   "outputs": [],
   "source": [
    "# build theatre env here\n",
    "\n",
    "fs = 8000 # audio sampling frequency - global (set to freq of input file)\n",
    "\n",
    "room_x = 10 # stage width\n",
    "room_y = 20 # room length\n",
    "order = 0 # reflection order\n",
    "sigma2_n = 5e-7 # microphone noise variance estimate\n",
    "\n",
    "m = pra.make_materials(\n",
    "    ceiling=\"hard_surface\",\n",
    "    floor=\"stage_floor\",\n",
    "    east=\"brickwork\",\n",
    "    west=\"brickwork\",\n",
    "    north=\"brickwork\",\n",
    "    south=\"brickwork\",\n",
    ") # materials of each surface of room, defines signal absorption\n",
    "\n",
    "room = pra.ShoeBox([room_x, room_y], fs=fs, materials=m, max_order=order, air_absorption=True, ray_tracing=False)"
   ]
  },
  {
   "cell_type": "markdown",
   "metadata": {},
   "source": [
    "### Place microphones\n",
    "\n",
    "Defines array geometry and places the microphones near the stage (the front of the room)."
   ]
  },
  {
   "cell_type": "code",
   "execution_count": 143,
   "metadata": {},
   "outputs": [
    {
     "data": {
      "text/plain": [
       "<pyroomacoustics.room.ShoeBox at 0x1589e9a00>"
      ]
     },
     "execution_count": 143,
     "metadata": {},
     "output_type": "execute_result"
    }
   ],
   "source": [
    "# design parameters of array\n",
    "array_loc = [5, 15] # x/y location of array center\n",
    "n_mics = 16 # number of microphones\n",
    "sep = 0.1 # microphone separation\n",
    "\n",
    "N = 1024 # fft length - defines N/2 + 1 frequency bands\n",
    "\n",
    "R = pra.linear_2D_array(center=array_loc, M=n_mics, phi=0, d=sep)\n",
    "mic_array = pra.Beamformer(R, room.fs, N) # uses omnidirectional mics by default\n",
    "room.add_microphone_array(mic_array)"
   ]
  },
  {
   "cell_type": "markdown",
   "metadata": {},
   "source": [
    "### Place sound sources\n",
    "\n",
    "Sources can be placed anywhere, with two samples placed apart from each other on stage. The 'input_samples' folder contains all input samples, some taken from the pyroomacoustics github."
   ]
  },
  {
   "cell_type": "code",
   "execution_count": 144,
   "metadata": {},
   "outputs": [],
   "source": [
    "# Add sources on stage\n",
    "source_locs = [[3, 19], [7, 19]] # locations of each source in 3D space (can modify)\n",
    "source_inputs = ['input_samples/singing_8000.wav', 'input_samples/german_speech_8000.wav'] # filepaths to wav files being played by the source\n",
    "\n",
    "for i in range(len(source_locs)):\n",
    "    _, audio = wavfile.read(source_inputs[i])\n",
    "    room.add_source(source_locs[i], signal=audio, delay=0)"
   ]
  },
  {
   "cell_type": "markdown",
   "metadata": {},
   "source": [
    "### Beamforming Algorithms\n",
    "\n",
    " Delay and sum beamformer:"
   ]
  },
  {
   "cell_type": "code",
   "execution_count": 119,
   "metadata": {},
   "outputs": [],
   "source": [
    "mic_array.rake_delay_and_sum_weights(\n",
    "    source=room.sources[0][0:1],\n",
    "    interferer=room.sources[1][0:1], # this algorithm has no way of accounting for an interferer, but shown for comparison\n",
    ")\n",
    "mic_array.filters_from_weights()\n",
    "\n",
    "out_filepath = 'output_samples/DNS'"
   ]
  },
  {
   "cell_type": "markdown",
   "metadata": {},
   "source": [
    "MVDR beamformer:"
   ]
  },
  {
   "cell_type": "code",
   "execution_count": 127,
   "metadata": {},
   "outputs": [],
   "source": [
    "mic_array.rake_mvdr_filters(\n",
    "    source=room.sources[0][0:1],\n",
    "    interferer=room.sources[1][0:1],\n",
    "    R_n=sigma2_n * np.eye(mic_array.Lg * mic_array.M) # estimated noise covariance matrix\n",
    ")\n",
    "out_filepath = 'output_samples/MVDR'"
   ]
  },
  {
   "cell_type": "markdown",
   "metadata": {},
   "source": [
    "Max SINR beamformer:"
   ]
  },
  {
   "cell_type": "code",
   "execution_count": 136,
   "metadata": {},
   "outputs": [],
   "source": [
    "mic_array.rake_max_sinr_weights(\n",
    "    source=room.sources[0][0:1],\n",
    "    interferer=room.sources[1][0:1],\n",
    "    R_n=sigma2_n * np.eye(mic_array.M) # estimated noise covariance matrix\n",
    ")\n",
    "mic_array.filters_from_weights()\n",
    "out_filepath = 'output_samples/MaxSINR'"
   ]
  },
  {
   "cell_type": "markdown",
   "metadata": {},
   "source": [
    "One Forcing beamformer:"
   ]
  },
  {
   "cell_type": "code",
   "execution_count": 145,
   "metadata": {},
   "outputs": [],
   "source": [
    "mic_array.rake_one_forcing_weights(\n",
    "    source=room.sources[0][0:1],\n",
    "    interferer=room.sources[1][0:1],\n",
    "    R_n=sigma2_n * np.eye(mic_array.M) # estimated noise covariance matrix\n",
    ")\n",
    "mic_array.filters_from_weights()\n",
    "out_filepath = 'output_samples/OneForcing'"
   ]
  },
  {
   "cell_type": "markdown",
   "metadata": {},
   "source": [
    "## Simulation\n",
    "\n",
    "Performs processing with selected beamforming algorithm above"
   ]
  },
  {
   "cell_type": "code",
   "execution_count": 146,
   "metadata": {},
   "outputs": [],
   "source": [
    "room.compute_rir()\n",
    "room.simulate()\n",
    "\n",
    "# save sound from middle mic as an estimated raw input\n",
    "raw_mic = pra.normalize(mic_array.signals[mic_array.M // 2])\n",
    "wavfile.write(out_filepath + '/combined_8000_mic_' + str(mic_array.M // 2) + '.wav', fs, raw_mic)\n",
    "\n",
    "# save processed sound as output\n",
    "output = mic_array.process()\n",
    "out_norm = pra.normalize(output)\n",
    "wavfile.write(out_filepath + '/combined_8000_processed.wav', fs, out_norm)"
   ]
  },
  {
   "cell_type": "markdown",
   "metadata": {},
   "source": [
    "## Evaluation"
   ]
  },
  {
   "cell_type": "code",
   "execution_count": 147,
   "metadata": {},
   "outputs": [
    {
     "data": {
      "image/png": "[encoded data removed]",
      "text/plain": [
       "<Figure size 640x480 with 1 Axes>"
      ]
     },
     "metadata": {},
     "output_type": "display_data"
    }
   ],
   "source": [
    "# plot peam pattern\n",
    "fig, ax = room.plot(freq=[1000, 2000, 4000], img_order=0)"
   ]
  },
  {
   "cell_type": "markdown",
   "metadata": {},
   "source": [
    "## Play Audio"
   ]
  },
  {
   "cell_type": "code",
   "execution_count": 148,
   "metadata": {},
   "outputs": [],
   "source": [
    "playsound(out_filepath + '/combined_8000_mic_8.wav')"
   ]
  },
  {
   "cell_type": "code",
   "execution_count": 149,
   "metadata": {},
   "outputs": [],
   "source": [
    "playsound(out_filepath + '/combined_8000_processed.wav')"
   ]
  }
 ],
 "metadata": {
  "kernelspec": {
   "display_name": "base",
   "language": "python",
   "name": "python3"
  },
  "language_info": {
   "codemirror_mode": {
    "name": "ipython",
    "version": 3
   },
   "file_extension": ".py",
   "mimetype": "text/x-python",
   "name": "python",
   "nbconvert_exporter": "python",
   "pygments_lexer": "ipython3",
   "version": "3.12.2"
  }
 },
 "nbformat": 4,
 "nbformat_minor": 2
}
