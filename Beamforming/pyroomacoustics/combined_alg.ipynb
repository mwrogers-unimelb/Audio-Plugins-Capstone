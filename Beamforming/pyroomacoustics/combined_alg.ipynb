{
 "cells": [
  {
   "cell_type": "markdown",
   "metadata": {},
   "source": [
    "# Combined Processing Algorithm\n",
    "\n",
    "Example simulating the ability of the array to both simultaneously locate and isolate sources"
   ]
  },
  {
   "cell_type": "code",
   "execution_count": 179,
   "metadata": {},
   "outputs": [],
   "source": [
    "import numpy as np\n",
    "import matplotlib.pyplot as plt\n",
    "import math\n",
    "import pyroomacoustics as pra\n",
    "from pyroomacoustics.directivities import (\n",
    "    DirectivityPattern,\n",
    "    DirectionVector,\n",
    "    CardioidFamily,\n",
    ")\n",
    "from scipy.io import wavfile\n",
    "from scipy.signal import resample\n",
    "from playsound import playsound"
   ]
  },
  {
   "cell_type": "markdown",
   "metadata": {},
   "source": [
    "### Room parameters"
   ]
  },
  {
   "cell_type": "code",
   "execution_count": 180,
   "metadata": {},
   "outputs": [],
   "source": [
    "fs = 8000 # audio sampling frequency - global (set to freq of input file)\n",
    "\n",
    "room_x = 10 # stage width\n",
    "room_y = 20 # room length\n",
    "order = 0 # reflection order\n",
    "sigma2_n = 5e-7 # microphone noise variance estimate\n",
    "v_sound = 343.0 # speed of sound in air\n",
    "\n",
    "m = pra.make_materials(\n",
    "    ceiling=\"hard_surface\",\n",
    "    floor=\"stage_floor\",\n",
    "    east=\"brickwork\",\n",
    "    west=\"brickwork\",\n",
    "    north=\"brickwork\",\n",
    "    south=\"brickwork\",\n",
    ") # materials of each surface of room, defines signal absorption\n",
    "\n",
    "room = pra.ShoeBox([room_x, room_y], fs=fs, materials=m, max_order=order, air_absorption=True, ray_tracing=False)"
   ]
  },
  {
   "cell_type": "markdown",
   "metadata": {},
   "source": [
    "### Place mics"
   ]
  },
  {
   "cell_type": "code",
   "execution_count": 181,
   "metadata": {},
   "outputs": [
    {
     "data": {
      "text/plain": [
       "<pyroomacoustics.room.ShoeBox at 0x30392d9d0>"
      ]
     },
     "execution_count": 181,
     "metadata": {},
     "output_type": "execute_result"
    }
   ],
   "source": [
    "# design parameters of array\n",
    "array_loc = [5, 15] # x/y location of array center\n",
    "n_mics = 16 # number of microphones\n",
    "sep = 0.1 # microphone separation\n",
    "\n",
    "N = 1024 # fft length - defines N/2 + 1 frequency bands\n",
    "\n",
    "R = pra.linear_2D_array(center=array_loc, M=n_mics, phi=0, d=sep)\n",
    "mic_array = pra.Beamformer(R, room.fs, N) # uses omnidirectional mics by default\n",
    "room.add_microphone_array(mic_array)"
   ]
  },
  {
   "cell_type": "markdown",
   "metadata": {},
   "source": [
    "### Place sources"
   ]
  },
  {
   "cell_type": "code",
   "execution_count": 182,
   "metadata": {},
   "outputs": [
    {
     "name": "stdout",
     "output_type": "stream",
     "text": [
      "Source azimuths: [63.43494882292201, 90.0, 116.56505117707799]\n"
     ]
    }
   ],
   "source": [
    "source_locs = [[3, 19], [5, 19], [7, 19]] # locations of each source in 3D space (can modify)\n",
    "source_inputs = ['input_samples/singing_8000.wav', 'input_samples/german_speech_8000.wav', 'input_samples/cmu_arctic_us_aew_a0001.wav'] # filepaths to wav files being played by the source\n",
    "azimuths = []\n",
    "\n",
    "for i in range(len(source_locs)):\n",
    "    rate, audio = wavfile.read(source_inputs[i])\n",
    "\n",
    "    # ensure sampling rates of all audio matches\n",
    "    if rate != fs:\n",
    "        num_samples = int(len(audio) * fs / rate)\n",
    "        audio = resample(audio, num_samples)\n",
    "    \n",
    "    room.add_source(source_locs[i], signal=audio, delay=0)\n",
    "\n",
    "    # ground truth azimuths (calculated relative to the x axis)\n",
    "    azimuths.append(180/np.pi * math.atan2(source_locs[i][1] - array_loc[1], source_locs[i][0] - array_loc[0]))\n",
    "    \n",
    "azimuths.sort()\n",
    "print('Source azimuths:', azimuths)"
   ]
  },
  {
   "cell_type": "markdown",
   "metadata": {},
   "source": [
    "### Locate sources with DOA"
   ]
  },
  {
   "cell_type": "code",
   "execution_count": 183,
   "metadata": {},
   "outputs": [
    {
     "name": "stdout",
     "output_type": "stream",
     "text": [
      "Recovered azimuths: [ 62.06896552  93.10344828 117.93103448] degrees\n",
      "Angular Errors: [1.3659833056806292, -3.103448275862064, -1.3659833056806292] degrees\n"
     ]
    }
   ],
   "source": [
    "room.compute_rir()\n",
    "room.simulate()\n",
    "\n",
    "# short-time fourier transform of signal\n",
    "X = np.array(\n",
    "    [\n",
    "        pra.transform.stft.analysis(signal, N, N // 2).T\n",
    "        for signal in room.mic_array.signals\n",
    "    ]\n",
    ")\n",
    "\n",
    "# NormMUSIC algorithm selected, recommended over MUSIC\n",
    "n_source = 3\n",
    "doa = pra.doa.normmusic.NormMUSIC(R, fs, N, c=v_sound, num_src=n_source, mode='far', azimuth=np.linspace(0, 180, 30)*np.pi/180)\n",
    "doa.locate_sources(X, freq_bins=np.arange(1, N))\n",
    "doa_azimuths = doa.azimuth_recon\n",
    "doa_azimuths.sort()\n",
    "azimuth_errors = [azimuths[i] - doa_azimuths[i] * 180.0/np.pi for i in range(len(azimuths))]\n",
    "\n",
    "print(\"Recovered azimuths:\", doa_azimuths * 180.0/np.pi, \"degrees\")\n",
    "print(\"Angular Errors:\", azimuth_errors, \"degrees\")"
   ]
  },
  {
   "cell_type": "markdown",
   "metadata": {},
   "source": [
    "### Isolate sources with beamforming"
   ]
  },
  {
   "cell_type": "code",
   "execution_count": 184,
   "metadata": {},
   "outputs": [],
   "source": [
    "# add guessed locations of sources to room\n",
    "guess_dist = 5 # guessed distance away from array - choose far distance for precise beam\n",
    "guess_source_locs = np.empty((2, n_source))\n",
    "\n",
    "for i in range(n_source):\n",
    "    guess_source_locs[0, i] = array_loc[0] + guess_dist*np.cos(doa_azimuths[i])\n",
    "    guess_source_locs[1, i] = array_loc[1] + guess_dist*np.sin(doa_azimuths[i])\n",
    "\n",
    "# Beamforming algorithm for each source\n",
    "out_filepath = 'output_samples/DOA_Combined'\n",
    "# guessed_sources = [room.sources[i][0:1] for i in range(n_source, 2*n_source)]\n",
    "\n",
    "for i in range(guess_source_locs.shape[1]):\n",
    "    current_interferers = guess_source_locs\n",
    "    current_interferers = np.delete(current_interferers, i, 1)\n",
    "\n",
    "    interf = pra.soundsource.SoundSource([0, 0])\n",
    "    interf.images = current_interferers\n",
    "\n",
    "    source = pra.soundsource.SoundSource([0, 0])\n",
    "    source.images = np.array([[guess_source_locs[0, i]], [guess_source_locs[1, i]]])\n",
    "\n",
    "    mic_array.rake_one_forcing_weights(\n",
    "        source=source,\n",
    "        interferer=interf,\n",
    "        R_n=sigma2_n * np.eye(mic_array.M) # estimated noise covariance matrix\n",
    "    )\n",
    "    mic_array.filters_from_weights() # process with time domain filters for now, can also use FD directly\n",
    "\n",
    "    # save processed sound as output\n",
    "    output = mic_array.process()\n",
    "    out_norm = pra.normalize(output)\n",
    "    wavfile.write(out_filepath + '/isolated_src' + str(i+1) + '.wav', fs, out_norm)\n",
    "\n",
    "# save sound from middle mic as an estimated raw input\n",
    "raw_mic = pra.normalize(mic_array.signals[mic_array.M // 2])\n",
    "wavfile.write(out_filepath + '/combined_8000_mic_' + str(mic_array.M // 2) + '.wav', fs, raw_mic)"
   ]
  },
  {
   "cell_type": "markdown",
   "metadata": {},
   "source": [
    "### Evaluate performance"
   ]
  },
  {
   "cell_type": "code",
   "execution_count": 185,
   "metadata": {},
   "outputs": [
    {
     "data": {
      "image/png": "[encoded data removed]",
      "text/plain": [
       "<Figure size 640x480 with 1 Axes>"
      ]
     },
     "metadata": {},
     "output_type": "display_data"
    }
   ],
   "source": [
    "# plot peam pattern\n",
    "fig, ax = room.plot(freq=[250, 1000, 2000, 4000], img_order=0)"
   ]
  },
  {
   "cell_type": "code",
   "execution_count": 186,
   "metadata": {},
   "outputs": [],
   "source": [
    "playsound(out_filepath + '/combined_8000_mic_8.wav')"
   ]
  },
  {
   "cell_type": "code",
   "execution_count": 187,
   "metadata": {},
   "outputs": [],
   "source": [
    "playsound(out_filepath + '/isolated_src1.wav')"
   ]
  },
  {
   "cell_type": "code",
   "execution_count": 188,
   "metadata": {},
   "outputs": [],
   "source": [
    "playsound(out_filepath + '/isolated_src2.wav')"
   ]
  },
  {
   "cell_type": "code",
   "execution_count": 189,
   "metadata": {},
   "outputs": [],
   "source": [
    "playsound(out_filepath + '/isolated_src3.wav')"
   ]
  }
 ],
 "metadata": {
  "kernelspec": {
   "display_name": "base",
   "language": "python",
   "name": "python3"
  },
  "language_info": {
   "codemirror_mode": {
    "name": "ipython",
    "version": 3
   },
   "file_extension": ".py",
   "mimetype": "text/x-python",
   "name": "python",
   "nbconvert_exporter": "python",
   "pygments_lexer": "ipython3",
   "version": "3.12.2"
  }
 },
 "nbformat": 4,
 "nbformat_minor": 2
}
