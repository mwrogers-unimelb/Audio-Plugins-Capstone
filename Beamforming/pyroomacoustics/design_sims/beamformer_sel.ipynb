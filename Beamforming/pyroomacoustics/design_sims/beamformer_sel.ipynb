{
 "cells": [
  {
   "cell_type": "markdown",
   "metadata": {},
   "source": [
    "# Beamforming algorithm selection\n",
    "Compares the performance of different beamforming algorithms, via:\n",
    "\n",
    "- SIR for two sources place a fixed distance apart (averaged across the entire stage)"
   ]
  },
  {
   "cell_type": "code",
   "execution_count": 27,
   "metadata": {},
   "outputs": [],
   "source": [
    "import numpy as np\n",
    "import math\n",
    "import matplotlib.pyplot as plt\n",
    "from matplotlib import colormaps\n",
    "import pyroomacoustics as pra\n",
    "from pyroomacoustics.directivities import (\n",
    "    DirectivityPattern,\n",
    "    DirectionVector,\n",
    "    CardioidFamily,\n",
    ")\n",
    "from scipy.io import wavfile\n",
    "from playsound import playsound"
   ]
  },
  {
   "cell_type": "markdown",
   "metadata": {},
   "source": [
    "Simulation parameters"
   ]
  },
  {
   "cell_type": "code",
   "execution_count": 28,
   "metadata": {},
   "outputs": [],
   "source": [
    "# ROOM PARAMETERS\n",
    "\n",
    "fs = 8000 # audio sampling frequency - global (set to freq of input file)\n",
    "\n",
    "room_x = 12 # room width\n",
    "room_y = 20 # room length\n",
    "stage_x = [1, 11]\n",
    "stage_y = [12, 18] # x/y bounds of stage in the room\n",
    "order = 0 # reflection order\n",
    "sigma2_n = 5e-7 # microphone noise variance estimate\n",
    "source_step = 1 # resolution of simulation grid (m)\n",
    "\n",
    "m = pra.make_materials(\n",
    "    ceiling=\"hard_surface\",\n",
    "    floor=\"stage_floor\",\n",
    "    east=\"brickwork\",\n",
    "    west=\"brickwork\",\n",
    "    north=\"brickwork\",\n",
    "    south=\"brickwork\",\n",
    ") # materials of each surface of room, defines signal absorption when order is nonzero\n",
    "\n",
    "# MIC ARRAY PARAMETERS\n",
    "array_loc = [6, 10] # x/y location of array - front and center of stage\n",
    "n_mics = 8 # number of microphones\n",
    "sep = 0.1 # microphone separation\n",
    "\n",
    "N = 1024 # fft length - defines N/2 + 1 frequency bands\n",
    "\n",
    "R = pra.linear_2D_array(center=array_loc, M=n_mics, phi=0, d=sep)\n",
    "mic_array = pra.Beamformer(R, fs, N) # uses omnidirectional mics by default\n",
    "\n",
    "# SOUND SOURCE PARAMETERS\n",
    "source_x = np.arange(stage_x[0], stage_x[1]+source_step, source_step)\n",
    "source_y = np.arange(stage_y[0], stage_y[1]+source_step, source_step) # Define spatial grid over which to simulate\n",
    "source_filenames = ['../input_samples/singing_8000.wav', '../input_samples/german_speech_8000.wav']\n",
    "_, singing = wavfile.read(source_filenames[0])\n",
    "_, speech = wavfile.read(source_filenames[1])"
   ]
  },
  {
   "cell_type": "markdown",
   "metadata": {},
   "source": [
    "### Run Simulations\n",
    "\n",
    "Sources are placed d metres apart, at the same distance from the array."
   ]
  },
  {
   "cell_type": "code",
   "execution_count": 40,
   "metadata": {},
   "outputs": [
    {
     "data": {
      "image/png": "[encoded data removed]",
      "text/plain": [
       "<Figure size 640x480 with 2 Axes>"
      ]
     },
     "metadata": {},
     "output_type": "display_data"
    },
    {
     "name": "stdout",
     "output_type": "stream",
     "text": [
      "Average SIR across stage (dB):  64.0969764715092\n",
      "Maximum SIR across stage (dB):  132.8964466798973\n",
      "Minimum SIR across stage (dB):  44.93279054900001\n"
     ]
    }
   ],
   "source": [
    "SIRs = np.empty(shape=(len(source_x),len(source_y)))\n",
    "d = 1 # source separation parameter\n",
    "\n",
    "for i in range(len(source_x)):\n",
    "    for j in range(len(source_y)):\n",
    "\n",
    "        x = source_x[i]\n",
    "        y = source_y[j]\n",
    "\n",
    "        # build room, array, and sources\n",
    "        room = pra.ShoeBox([room_x, room_y], fs=fs, materials=m, max_order=order, air_absorption=True, ray_tracing=False)\n",
    "        room.add_microphone_array(mic_array)\n",
    "\n",
    "        s1 = [x, y] # 1st source location\n",
    "        s1_mic = [x - array_loc[0], y - array_loc[1]] # location relative to array\n",
    "        r = math.sqrt(s1_mic[0]**2 + s1_mic[1]**2)\n",
    "        phi_rad = 2 * math.asin(d/(2*r))\n",
    "\n",
    "        if s1_mic[0] < 0:\n",
    "            phi_rad *= -1\n",
    "\n",
    "        s2_mic = [s1_mic[0]*math.cos(phi_rad) - s1_mic[1]*math.sin(phi_rad), s1_mic[0]*math.sin(phi_rad) + s1_mic[1]*math.cos(phi_rad)] # 2nd source location relative to array\n",
    "        s2 = [s2_mic[0] + array_loc[0], s2_mic[1] + array_loc[1]]\n",
    "\n",
    "        source_locs = [s1, s2] # locations of each source\n",
    "        room.add_source(source_locs[0], signal=singing, delay=0)\n",
    "        room.add_source(source_locs[1], signal=speech, delay=0)\n",
    "\n",
    "        # define beamformer algorithm and compute weights\n",
    "        mic_array.rake_one_forcing_weights(\n",
    "            source=room.sources[0][0:1],\n",
    "            interferer=room.sources[1][0:1],\n",
    "            R_n=sigma2_n * np.eye(mic_array.M)\n",
    "        )\n",
    "        mic_array.filters_from_weights()\n",
    "\n",
    "        # run simulation\n",
    "        room.compute_rir()\n",
    "        room.simulate()\n",
    "\n",
    "        # compute SIR\n",
    "        SIRs[i, j] = mic_array.snr(room.sources[0][0:1], room.sources[1][0:1], 1000, dB=True)\n",
    "\n",
    "# plot SIR as a function of location\n",
    "y, x = np.meshgrid(source_y, source_x)\n",
    "sir_min = np.min(SIRs)\n",
    "sir_max = np.max(SIRs)\n",
    "sir_avg = np.mean(SIRs)\n",
    "\n",
    "fig, ax = plt.subplots()\n",
    "c = ax.pcolormesh(x, y, SIRs, cmap='RdBu', vmin=sir_min, vmax=sir_max)\n",
    "ax.plot(mic_array.R[0], mic_array.R[1], 'kx')\n",
    "ax.set_title('Beamformer SIR Across Stage (dB)')\n",
    "ax.axis([0, room_x, 0, room_y])\n",
    "fig.gca().set_aspect('equal', adjustable='box')\n",
    "fig.colorbar(c, ax=ax)\n",
    "plt.show()\n",
    "\n",
    "# output SIR stats\n",
    "print(\"Average SIR across stage (dB): \", sir_avg)\n",
    "print(\"Maximum SIR across stage (dB): \", sir_max)\n",
    "print(\"Minimum SIR across stage (dB): \", sir_min)"
   ]
  }
 ],
 "metadata": {
  "kernelspec": {
   "display_name": "base",
   "language": "python",
   "name": "python3"
  },
  "language_info": {
   "codemirror_mode": {
    "name": "ipython",
    "version": 3
   },
   "file_extension": ".py",
   "mimetype": "text/x-python",
   "name": "python",
   "nbconvert_exporter": "python",
   "pygments_lexer": "ipython3",
   "version": "3.12.2"
  }
 },
 "nbformat": 4,
 "nbformat_minor": 2
}
