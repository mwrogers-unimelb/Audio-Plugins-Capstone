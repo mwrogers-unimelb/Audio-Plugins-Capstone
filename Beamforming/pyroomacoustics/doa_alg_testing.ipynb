{
 "cells": [
  {
   "cell_type": "markdown",
   "metadata": {},
   "source": [
    "# Direction of Arrival (DOA) Algorithm Testing\n",
    "\n",
    "Includes:\n",
    "\n",
    "- A 2D room simulation to model recording signals in a real environment\n",
    "- A variety of implementations of (2D) DOA algorithms"
   ]
  },
  {
   "cell_type": "code",
   "execution_count": 65,
   "metadata": {},
   "outputs": [],
   "source": [
    "import numpy as np\n",
    "import matplotlib.pyplot as plt\n",
    "import math\n",
    "import pyroomacoustics as pra\n",
    "from pyroomacoustics.directivities import (\n",
    "    DirectivityPattern,\n",
    "    DirectionVector,\n",
    "    CardioidFamily,\n",
    ")\n",
    "from pyroomacoustics.doa import circ_dist\n",
    "from scipy.io import wavfile\n",
    "from playsound import playsound"
   ]
  },
  {
   "cell_type": "markdown",
   "metadata": {},
   "source": [
    "### Build Theatre Environment\n",
    "\n",
    "Create shoebox room of similar size and characteristics to theatre to simulate in."
   ]
  },
  {
   "cell_type": "code",
   "execution_count": 66,
   "metadata": {},
   "outputs": [],
   "source": [
    "# build theatre env here\n",
    "\n",
    "fs = 8000 # audio sampling frequency - global (set to freq of input file)\n",
    "\n",
    "room_x = 10 # stage width\n",
    "room_y = 20 # room length\n",
    "order = 0 # reflection order\n",
    "sigma2_n = 5e-7 # microphone noise variance estimate\n",
    "v_sound = 343.0 # speed of sound in air\n",
    "\n",
    "m = pra.make_materials(\n",
    "    ceiling=\"hard_surface\",\n",
    "    floor=\"stage_floor\",\n",
    "    east=\"brickwork\",\n",
    "    west=\"brickwork\",\n",
    "    north=\"brickwork\",\n",
    "    south=\"brickwork\",\n",
    ") # materials of each surface of room, defines signal absorption\n",
    "\n",
    "room = pra.ShoeBox([room_x, room_y], fs=fs, materials=m, max_order=order, air_absorption=True, ray_tracing=False)"
   ]
  },
  {
   "cell_type": "markdown",
   "metadata": {},
   "source": [
    "### Place microphones\n",
    "\n",
    "Defines array geometry and places the microphones near the stage (the front of the room)."
   ]
  },
  {
   "cell_type": "code",
   "execution_count": 67,
   "metadata": {},
   "outputs": [
    {
     "data": {
      "text/plain": [
       "<pyroomacoustics.room.ShoeBox at 0x14f290ad0>"
      ]
     },
     "execution_count": 67,
     "metadata": {},
     "output_type": "execute_result"
    }
   ],
   "source": [
    "# design parameters of array\n",
    "array_loc = [5, 15] # x/y location of array center\n",
    "n_mics = 16 # number of microphones\n",
    "sep = 0.1 # microphone separation\n",
    "\n",
    "N = 1024 # fft length - defines N/2 + 1 frequency bands\n",
    "\n",
    "R = pra.linear_2D_array(center=array_loc, M=n_mics, phi=0, d=sep)\n",
    "mic_array = pra.Beamformer(R, room.fs, N) # uses omnidirectional mics by default\n",
    "room.add_microphone_array(mic_array)"
   ]
  },
  {
   "cell_type": "markdown",
   "metadata": {},
   "source": [
    "### Place sound sources\n",
    "\n",
    "Sources can be placed anywhere, with two samples placed apart from each other on stage. The 'input_samples' folder contains all input samples, some taken from the pyroomacoustics github."
   ]
  },
  {
   "cell_type": "code",
   "execution_count": 68,
   "metadata": {},
   "outputs": [
    {
     "name": "stdout",
     "output_type": "stream",
     "text": [
      "Source azimuth: 90.0\n"
     ]
    }
   ],
   "source": [
    "# Add sources on stage\n",
    "source_locs = [[5, 19]] # locations of each source in 3D space (can modify)\n",
    "source_inputs = ['input_samples/singing_8000.wav', 'input_samples/german_speech_8000.wav'] # filepaths to wav files being played by the source\n",
    "\n",
    "for i in range(len(source_locs)):\n",
    "    _, audio = wavfile.read(source_inputs[i])\n",
    "    room.add_source(source_locs[i], signal=audio, delay=0)\n",
    "\n",
    " # ground truth azimuth (calculated relative to the x axis)\n",
    "azimuth = math.atan2(source_locs[0][1] - array_loc[1], source_locs[0][0] - array_loc[0])\n",
    "print('Source azimuth:', azimuth*180 / np.pi)"
   ]
  },
  {
   "cell_type": "markdown",
   "metadata": {},
   "source": [
    "### DOA Algorithms:\n",
    "\n",
    "Code below tests ability of each algorithm to locate a single source (source: pyroomacoustics/examples/doa_algorithms.py)\n"
   ]
  },
  {
   "cell_type": "code",
   "execution_count": 69,
   "metadata": {},
   "outputs": [
    {
     "name": "stdout",
     "output_type": "stream",
     "text": [
      "CSSM\n",
      "  Recovered azimuth: [90.] degrees\n",
      "  Angular Error: [0.] degrees\n",
      "MUSIC\n",
      "  Recovered azimuth: [90.] degrees\n",
      "  Angular Error: [0.] degrees\n",
      "NormMUSIC\n",
      "  Recovered azimuth: [90.] degrees\n",
      "  Angular Error: [0.] degrees\n",
      "SRP\n",
      "  Recovered azimuth: [90.] degrees\n",
      "  Angular Error: [0.] degrees\n",
      "TOPS\n",
      "  Recovered azimuth: [270.] degrees\n",
      "  Angular Error: [180.] degrees\n",
      "WAVES\n",
      "  Recovered azimuth: [90.] degrees\n",
      "  Angular Error: [0.] degrees\n"
     ]
    }
   ],
   "source": [
    "room.compute_rir()\n",
    "room.simulate()\n",
    "\n",
    "# short-time fourier transform of signal\n",
    "X = np.array(\n",
    "    [\n",
    "        pra.transform.stft.analysis(signal, N, N // 2).T\n",
    "        for signal in room.mic_array.signals\n",
    "    ]\n",
    ")\n",
    "\n",
    "# algo_names = sorted(pra.doa.algorithms.keys())\n",
    "# print(algo_names)\n",
    "# algo_names = ['CSSM', 'FRIDA', 'MUSIC', 'NormMUSIC', 'SRP', 'TOPS', 'WAVES'] # all algorithms\n",
    "algo_names = ['CSSM', 'MUSIC', 'NormMUSIC', 'SRP', 'TOPS', 'WAVES']\n",
    "\n",
    "for algo_name in algo_names:\n",
    "    # Construct the new DOA object\n",
    "    # the max_four parameter is necessary for FRIDA only\n",
    "    doa = pra.doa.algorithms[algo_name](R, fs, N, c=v_sound, max_four=4)\n",
    "\n",
    "    # this call here perform localization on the frames in X\n",
    "    doa.locate_sources(X, freq_bins=np.arange(1, N))\n",
    "\n",
    "    # doa.polar_plt_dirac()\n",
    "    # plt.title(algo_name)\n",
    "\n",
    "    # doa.azimuth_recon contains the reconstructed location of the source\n",
    "    print(algo_name)\n",
    "    print(\"  Recovered azimuth:\", doa.azimuth_recon / np.pi * 180.0, \"degrees\")\n",
    "    print(\"  Angular Error:\", circ_dist(azimuth, doa.azimuth_recon) / np.pi * 180.0, \"degrees\")\n",
    "\n",
    "plt.show()"
   ]
  }
 ],
 "metadata": {
  "kernelspec": {
   "display_name": "base",
   "language": "python",
   "name": "python3"
  },
  "language_info": {
   "codemirror_mode": {
    "name": "ipython",
    "version": 3
   },
   "file_extension": ".py",
   "mimetype": "text/x-python",
   "name": "python",
   "nbconvert_exporter": "python",
   "pygments_lexer": "ipython3",
   "version": "3.12.2"
  }
 },
 "nbformat": 4,
 "nbformat_minor": 2
}
