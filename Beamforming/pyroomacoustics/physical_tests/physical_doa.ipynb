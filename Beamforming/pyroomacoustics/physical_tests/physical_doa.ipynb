{
 "cells": [
  {
   "cell_type": "markdown",
   "metadata": {},
   "source": [
    "# Physical Array DOA testing"
   ]
  },
  {
   "cell_type": "code",
   "execution_count": 7,
   "metadata": {},
   "outputs": [],
   "source": [
    "import numpy as np\n",
    "import matplotlib.pyplot as plt\n",
    "import math\n",
    "import pyroomacoustics as pra\n",
    "from pyroomacoustics.directivities import (\n",
    "    DirectivityPattern,\n",
    "    DirectionVector,\n",
    "    CardioidFamily,\n",
    ")\n",
    "from pyroomacoustics.doa import circ_dist\n",
    "from scipy.io import wavfile\n",
    "from playsound import playsound"
   ]
  },
  {
   "cell_type": "markdown",
   "metadata": {},
   "source": [
    "### Build Anechoic Simulation Room"
   ]
  },
  {
   "cell_type": "code",
   "execution_count": 8,
   "metadata": {},
   "outputs": [],
   "source": [
    "fs = 48000 # audio sampling frequency - global (set to freq of input file)\n",
    "\n",
    "room_x = 10 # stage width\n",
    "room_y = 10 # room length\n",
    "order = 0 # reflection order\n",
    "sigma2_n = 5e-7 # microphone noise variance estimate\n",
    "v_sound = 343.0 # speed of sound in air\n",
    "\n",
    "m = pra.make_materials(\n",
    "    ceiling=\"hard_surface\",\n",
    "    floor=\"stage_floor\",\n",
    "    east=\"brickwork\",\n",
    "    west=\"brickwork\",\n",
    "    north=\"brickwork\",\n",
    "    south=\"brickwork\",\n",
    ") # materials of each surface of room, defines signal absorption\n",
    "\n",
    "room = pra.ShoeBox([room_x, room_y], fs=fs, materials=m, max_order=order, air_absorption=True, ray_tracing=False)"
   ]
  },
  {
   "cell_type": "markdown",
   "metadata": {},
   "source": [
    "### Place microphones\n",
    "\n",
    "Places microphones along room wall (doesn't matter)"
   ]
  },
  {
   "cell_type": "code",
   "execution_count": 9,
   "metadata": {},
   "outputs": [
    {
     "data": {
      "text/plain": [
       "<pyroomacoustics.room.ShoeBox at 0x148a0f6e0>"
      ]
     },
     "execution_count": 9,
     "metadata": {},
     "output_type": "execute_result"
    }
   ],
   "source": [
    "# design parameters of array\n",
    "array_loc = [5, 0.1] # x/y location of array center\n",
    "n_mics = 8 # number of microphones\n",
    "sep = 0.1 # microphone separation\n",
    "\n",
    "N = 1024 # fft length - defines N/2 + 1 frequency bands\n",
    "\n",
    "R = pra.linear_2D_array(center=array_loc, M=n_mics, phi=0, d=sep)\n",
    "mic_array = pra.Beamformer(R, room.fs, N) # uses omnidirectional mics by default\n",
    "room.add_microphone_array(mic_array)"
   ]
  },
  {
   "cell_type": "markdown",
   "metadata": {},
   "source": [
    "### Load Recorded Signals\n",
    "\n",
    "Stores them in microphone objects"
   ]
  },
  {
   "cell_type": "code",
   "execution_count": 10,
   "metadata": {},
   "outputs": [
    {
     "name": "stderr",
     "output_type": "stream",
     "text": [
      "/var/folders/_f/h8xwd2k15l36zgym21rpns740000gn/T/ipykernel_91398/3956247689.py:6: WavFileWarning: Chunk (non-data) not understood, skipping it.\n",
      "  f_sample, audio = wavfile.read(file_str)\n"
     ]
    }
   ],
   "source": [
    "mic_signals_filepath = '../array_samples/two_source_sinusoid/0'\n",
    "signals_suffix = '-240913_0736.wav'\n",
    "\n",
    "for i in range(n_mics):\n",
    "    file_str = mic_signals_filepath + str(i+1) + signals_suffix\n",
    "    f_sample, audio = wavfile.read(file_str)\n",
    "\n",
    "    if i == 0:\n",
    "        mic_signals = np.zeros((n_mics, len(audio)))\n",
    "\n",
    "    mic_signals[n_mics-1-i, :] = audio\n",
    "\n",
    "room.mic_array.signals = mic_signals"
   ]
  },
  {
   "cell_type": "markdown",
   "metadata": {},
   "source": [
    "### DOA to locate source\n"
   ]
  },
  {
   "cell_type": "code",
   "execution_count": 11,
   "metadata": {},
   "outputs": [
    {
     "name": "stdout",
     "output_type": "stream",
     "text": [
      "Recovered azimuths: [117.93103448  99.31034483] degrees\n"
     ]
    }
   ],
   "source": [
    "# short-time fourier transform of signal\n",
    "X = np.array(\n",
    "    [\n",
    "        pra.transform.stft.analysis(signal, N, N // 2).T\n",
    "        for signal in room.mic_array.signals\n",
    "    ]\n",
    ")\n",
    "\n",
    "# NormMUSIC algorithm selected, recommended over MUSIC\n",
    "n_source = 2\n",
    "doa = pra.doa.normmusic.NormMUSIC(R, fs, N, c=v_sound, num_src=n_source, mode='far', azimuth=np.linspace(0, 180, 30)*np.pi/180)\n",
    "doa.locate_sources(X, freq_bins=np.arange(1, N))\n",
    "doa_azimuths = doa.azimuth_recon\n",
    "\n",
    "print(\"Recovered azimuths:\", doa_azimuths * 180.0/np.pi, \"degrees\")"
   ]
  }
 ],
 "metadata": {
  "kernelspec": {
   "display_name": "base",
   "language": "python",
   "name": "python3"
  },
  "language_info": {
   "codemirror_mode": {
    "name": "ipython",
    "version": 3
   },
   "file_extension": ".py",
   "mimetype": "text/x-python",
   "name": "python",
   "nbconvert_exporter": "python",
   "pygments_lexer": "ipython3",
   "version": "3.12.2"
  }
 },
 "nbformat": 4,
 "nbformat_minor": 2
}
