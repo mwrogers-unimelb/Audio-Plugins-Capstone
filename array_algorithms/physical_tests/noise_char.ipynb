{
 "cells": [
  {
   "cell_type": "markdown",
   "metadata": {},
   "source": [
    "# Room Noise Characterisation"
   ]
  },
  {
   "cell_type": "code",
   "execution_count": 18,
   "metadata": {},
   "outputs": [],
   "source": [
    "import numpy as np\n",
    "import matplotlib.pyplot as plt\n",
    "import math\n",
    "import pyroomacoustics as pra\n",
    "from pyroomacoustics.directivities import (\n",
    "    DirectivityPattern,\n",
    "    DirectionVector,\n",
    "    CardioidFamily,\n",
    ")\n",
    "from scipy.io import wavfile\n",
    "from scipy import signal\n",
    "from playsound import playsound"
   ]
  },
  {
   "cell_type": "code",
   "execution_count": 24,
   "metadata": {},
   "outputs": [
    {
     "name": "stdout",
     "output_type": "stream",
     "text": [
      "(8, 872224)\n"
     ]
    },
    {
     "name": "stderr",
     "output_type": "stream",
     "text": [
      "/var/folders/_f/h8xwd2k15l36zgym21rpns740000gn/T/ipykernel_48377/2127467484.py:11: WavFileWarning: Chunk (non-data) not understood, skipping it.\n",
      "  f_sample, audio = wavfile.read(file_str)\n"
     ]
    }
   ],
   "source": [
    "# Load recorded array signals\n",
    "n_mics = 8\n",
    "N = 1024\n",
    "fs = 48000\n",
    "\n",
    "mic_signals_filepath = '../array_samples/twosource_room/0'\n",
    "signals_suffix = '-241005_1739.wav'\n",
    "\n",
    "for i in range(n_mics):\n",
    "    file_str = mic_signals_filepath + str(i+1) + signals_suffix\n",
    "    f_sample, audio = wavfile.read(file_str)\n",
    "\n",
    "    if i == 0:\n",
    "        mic_signals = np.zeros((n_mics, len(audio)))\n",
    "\n",
    "    mic_signals[n_mics-1-i, :] = audio\n",
    "print(mic_signals.shape)"
   ]
  },
  {
   "cell_type": "code",
   "execution_count": 25,
   "metadata": {},
   "outputs": [
    {
     "name": "stdout",
     "output_type": "stream",
     "text": [
      "(513,)\n",
      "(513,)\n",
      "(513,)\n",
      "(513,)\n",
      "(513,)\n",
      "(513,)\n",
      "(513,)\n",
      "(513,)\n"
     ]
    }
   ],
   "source": [
    "# noise covariance computation\n",
    "\n",
    "for i in range(n_mics):\n",
    "    # STFT of signal in non-overlapping segments\n",
    "    stft = pra.transform.stft.STFT(N, hop=N) # window of 1024 samples, moving in 1024 increments - roughly 20ms long\n",
    "    X = stft.analysis(mic_signals[1,:]).T\n",
    "    X_mag = abs(X)\n",
    "\n",
    "    # alternative STFT with scipy\n",
    "    # window = signal.windows.hann(N//2, False)\n",
    "    # SFT = signal.ShortTimeFFT(window, hop=N, fs=fs, mfft=N, scale_to='magnitude')\n",
    "    # X_check = SFT.stft(mic_signals[1,:])\n",
    "    # print(abs(X_check))\n",
    "\n",
    "    # average over different samples\n",
    "    X_mag_avg = np.mean(X_mag, axis=1)\n",
    "    print(X_mag_avg.shape)"
   ]
  },
  {
   "cell_type": "code",
   "execution_count": 26,
   "metadata": {},
   "outputs": [
    {
     "name": "stdout",
     "output_type": "stream",
     "text": [
      "[[20654616.67361348 20853777.35752959 -1806615.68615707  4434510.54805085\n",
      "  17098811.67104688 17176958.74636023  7569512.09324695 11088844.48604913]\n",
      " [20853777.35752959 24254335.6018059  -3170560.9428739   4274536.40960728\n",
      "  19087873.08377382 19476884.58633859  7633524.78225087 13069792.12077625]\n",
      " [-1806615.68615707 -3170560.9428739   1932154.73639526    76418.01201197\n",
      "  -2172365.98675381 -2299102.04576704  1209572.20645598  -747224.8825734 ]\n",
      " [ 4434510.54805085  4274536.40960728    76418.01201197  1147460.76092441\n",
      "   3644878.83984727  3639996.18505778  2326827.66914054  2627741.64885794]\n",
      " [17098811.67104688 19087873.08377382 -2172365.98675381  3644878.83984727\n",
      "  15379137.22296358 15600003.06103821  6727424.5103848  10471425.01964006]\n",
      " [17176958.74636023 19476884.58633859 -2299102.04576704  3639996.18505778\n",
      "  15600003.06103821 15942467.3266899   6927256.38703477 10792236.44595378]\n",
      " [ 7569512.09324695  7633524.78225087  1209572.20645598  2326827.66914054\n",
      "   6727424.5103848   6927256.38703477  7492986.59002443  6475870.40648233]\n",
      " [11088844.48604913 13069792.12077625  -747224.8825734   2627741.64885794\n",
      "  10471425.01964006 10792236.44595378  6475870.40648233  8508525.02487397]]\n"
     ]
    }
   ],
   "source": [
    "# time domain covariance\n",
    "snapshot = mic_signals[:, :]\n",
    "\n",
    "R_n = (1.0/snapshot.shape[1]) * np.cov(snapshot)\n",
    "print(R_n)"
   ]
  }
 ],
 "metadata": {
  "kernelspec": {
   "display_name": "base",
   "language": "python",
   "name": "python3"
  },
  "language_info": {
   "codemirror_mode": {
    "name": "ipython",
    "version": 3
   },
   "file_extension": ".py",
   "mimetype": "text/x-python",
   "name": "python",
   "nbconvert_exporter": "python",
   "pygments_lexer": "ipython3",
   "version": "3.12.2"
  }
 },
 "nbformat": 4,
 "nbformat_minor": 2
}
