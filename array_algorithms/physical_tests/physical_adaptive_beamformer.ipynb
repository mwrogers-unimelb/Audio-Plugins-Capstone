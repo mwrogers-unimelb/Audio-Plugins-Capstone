{
 "cells": [
  {
   "cell_type": "markdown",
   "metadata": {},
   "source": [
    "# Physical Beamformer testing"
   ]
  },
  {
   "cell_type": "code",
   "execution_count": 154,
   "metadata": {},
   "outputs": [],
   "source": [
    "import numpy as np\n",
    "import matplotlib.pyplot as plt\n",
    "import math\n",
    "import pyroomacoustics as pra\n",
    "from pyroomacoustics.directivities import (\n",
    "    DirectivityPattern,\n",
    "    DirectionVector,\n",
    "    CardioidFamily,\n",
    ")\n",
    "from scipy.io import wavfile\n",
    "from scipy.signal import resample\n",
    "from playsound import playsound\n",
    "from os import listdir\n",
    "from os.path import isfile, join"
   ]
  },
  {
   "cell_type": "markdown",
   "metadata": {},
   "source": [
    "### Build Anechoic Simulation Room"
   ]
  },
  {
   "cell_type": "code",
   "execution_count": 155,
   "metadata": {},
   "outputs": [],
   "source": [
    "fs = 48000 # audio sampling frequency - global (set to freq of input file)\n",
    "\n",
    "room_x = 10 # stage width\n",
    "room_y = 10 # room length\n",
    "order = 0 # reflection order\n",
    "sigma2_n = 5e-7 # microphone noise variance estimate\n",
    "v_sound = 343.0 # speed of sound in air\n",
    "\n",
    "m = pra.make_materials(\n",
    "    ceiling=\"hard_surface\",\n",
    "    floor=\"stage_floor\",\n",
    "    east=\"brickwork\",\n",
    "    west=\"brickwork\",\n",
    "    north=\"brickwork\",\n",
    "    south=\"brickwork\",\n",
    ") # materials of each surface of room, defines signal absorption\n",
    "\n",
    "room = pra.ShoeBox([room_x, room_y], fs=fs, materials=m, max_order=order, air_absorption=True, ray_tracing=False)"
   ]
  },
  {
   "cell_type": "markdown",
   "metadata": {},
   "source": [
    "### Place mics"
   ]
  },
  {
   "cell_type": "code",
   "execution_count": 156,
   "metadata": {},
   "outputs": [
    {
     "data": {
      "text/plain": [
       "<pyroomacoustics.room.ShoeBox at 0x14f073b30>"
      ]
     },
     "execution_count": 156,
     "metadata": {},
     "output_type": "execute_result"
    }
   ],
   "source": [
    "# design parameters of array\n",
    "array_loc = [5, 0.1] # x/y location of array center\n",
    "n_mics = 8 # number of microphones\n",
    "sep = 0.3 # microphone separation\n",
    "\n",
    "N = 1024 # fft length - defines N/2 + 1 frequency bands\n",
    "\n",
    "R = pra.linear_2D_array(center=array_loc, M=n_mics, phi=0, d=sep)\n",
    "mic_array = pra.Beamformer(R, room.fs, N) # uses omnidirectional mics by default\n",
    "room.add_microphone_array(mic_array)"
   ]
  },
  {
   "cell_type": "markdown",
   "metadata": {},
   "source": [
    "### Load Recorded Signals\n",
    "\n",
    "Stores them in microphone objects"
   ]
  },
  {
   "cell_type": "code",
   "execution_count": 157,
   "metadata": {},
   "outputs": [
    {
     "name": "stderr",
     "output_type": "stream",
     "text": [
      "/var/folders/_f/h8xwd2k15l36zgym21rpns740000gn/T/ipykernel_56238/1786311218.py:7: WavFileWarning: Chunk (non-data) not understood, skipping it.\n",
      "  rate, audio = wavfile.read(file_str)\n"
     ]
    }
   ],
   "source": [
    "mic_signals_folder = '../array_samples/y=2,x=1_twosource_3'\n",
    "mic_signals_filenames = [f for f in listdir(mic_signals_folder) if isfile(join(mic_signals_folder, f))]\n",
    "mic_signals_filenames.sort()\n",
    "\n",
    "for i in range(n_mics):\n",
    "    file_str = mic_signals_folder + '/' + mic_signals_filenames[i]\n",
    "    rate, audio = wavfile.read(file_str)\n",
    "\n",
    "    # ensure sampling rates of all audio matches\n",
    "    if rate != fs:\n",
    "        num_samples = int(len(audio) * fs / rate)\n",
    "        audio = resample(audio, num_samples)\n",
    "\n",
    "    if i == 0:\n",
    "        mic_signals = np.zeros((n_mics, len(audio)))\n",
    "\n",
    "    mic_signals[n_mics-1-i, :] = audio\n",
    "\n",
    "room.mic_array.signals = mic_signals"
   ]
  },
  {
   "cell_type": "code",
   "execution_count": 158,
   "metadata": {},
   "outputs": [],
   "source": [
    "# compute time-varying signal covariance matrix, in small chunks\n",
    "snapshot_size = 1024\n",
    "n_snapshots = mic_signals.shape[1] // snapshot_size\n",
    "diag_loading = 0.0 # ensures nonzero eigenvalues\n",
    "R_n = np.zeros((n_mics, n_mics, n_snapshots))\n",
    "\n",
    "for i in range(n_snapshots):\n",
    "    # compute different R_n for each snapshot\n",
    "    signal_snapshot = mic_signals[:, snapshot_size*i:snapshot_size*(i+1)]\n",
    "    R_n[:, :, i] = (1.0/snapshot_size) * np.cov(signal_snapshot) + diag_loading * (np.eye(n_mics))"
   ]
  },
  {
   "cell_type": "markdown",
   "metadata": {},
   "source": [
    "### Isolate sources with beamforming"
   ]
  },
  {
   "cell_type": "code",
   "execution_count": 159,
   "metadata": {},
   "outputs": [],
   "source": [
    "# add guessed locations of sources to room\n",
    "n_source = 2\n",
    "doa_azimuths = np.array([np.arctan2(2,1), np.arctan2(2,-1)]) # ground truth\n",
    "# doa_azimuths = np.array([55.86206897, 93.10344828])*np.pi/180.0 # DOA estimate\n",
    "\n",
    "# add guessed locations of sources to room\n",
    "guess_dist = 3 # guessed distance away from array - choose far distance for precise beam\n",
    "guess_source_locs = np.empty((2, n_source))\n",
    "\n",
    "output = np.zeros((n_snapshots*snapshot_size))\n",
    "\n",
    "for i in range(n_source):\n",
    "    guess_source_locs[0, i] = array_loc[0] + guess_dist*np.cos(doa_azimuths[i])\n",
    "    guess_source_locs[1, i] = array_loc[1] + guess_dist*np.sin(doa_azimuths[i])\n",
    "\n",
    "# Beamforming algorithm for each source\n",
    "out_filepath = '../output_samples/physical_tests'\n",
    "\n",
    "for i in range(guess_source_locs.shape[1]):\n",
    "    current_interferers = guess_source_locs\n",
    "    current_interferers = np.delete(current_interferers, i, 1)\n",
    "\n",
    "    interf = pra.soundsource.SoundSource([0, 0])\n",
    "    interf.images = current_interferers\n",
    "\n",
    "    source = pra.soundsource.SoundSource([0, 0])\n",
    "    source.images = np.array([[guess_source_locs[0, i]], [guess_source_locs[1, i]]])\n",
    "\n",
    "    for j in range(n_snapshots):\n",
    "        room.mic_array.signals = mic_signals[:, snapshot_size*j:snapshot_size*(j+1)]\n",
    "        mic_array.rake_max_sinr_weights(\n",
    "            source=source,\n",
    "            interferer=interf,\n",
    "            R_n=R_n[:,:,j] # estimated noise covariance matrix\n",
    "        )\n",
    "        mic_array.filters_from_weights() # process with time domain filters for now, can also use FD directly\n",
    "        output[snapshot_size*j:snapshot_size*(j+1)] = mic_array.process()[snapshot_size//2:3*snapshot_size//2]\n",
    "\n",
    "    # save processed sound as output\n",
    "    out_norm = pra.normalize(output)\n",
    "    wavfile.write(out_filepath + '/isolated_src' + str(i+1) + '.wav', fs, out_norm)"
   ]
  },
  {
   "cell_type": "markdown",
   "metadata": {},
   "source": [
    "### Evaluate performance"
   ]
  },
  {
   "cell_type": "code",
   "execution_count": 161,
   "metadata": {},
   "outputs": [
    {
     "data": {
      "image/png": "[encoded data removed]",
      "text/plain": [
       "<Figure size 640x480 with 1 Axes>"
      ]
     },
     "metadata": {},
     "output_type": "display_data"
    }
   ],
   "source": [
    "# plot peam pattern\n",
    "fig, ax = room.plot(freq=[1000], img_order=0)"
   ]
  }
 ],
 "metadata": {
  "kernelspec": {
   "display_name": "base",
   "language": "python",
   "name": "python3"
  },
  "language_info": {
   "codemirror_mode": {
    "name": "ipython",
    "version": 3
   },
   "file_extension": ".py",
   "mimetype": "text/x-python",
   "name": "python",
   "nbconvert_exporter": "python",
   "pygments_lexer": "ipython3",
   "version": "3.12.2"
  }
 },
 "nbformat": 4,
 "nbformat_minor": 2
}
