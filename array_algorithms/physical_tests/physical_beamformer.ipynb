{
 "cells": [
  {
   "cell_type": "markdown",
   "metadata": {},
   "source": [
    "# Physical Beamformer testing"
   ]
  },
  {
   "cell_type": "code",
   "execution_count": 544,
   "metadata": {},
   "outputs": [],
   "source": [
    "import numpy as np\n",
    "import matplotlib.pyplot as plt\n",
    "import math\n",
    "import pyroomacoustics as pra\n",
    "from pyroomacoustics.directivities import (\n",
    "    DirectivityPattern,\n",
    "    DirectionVector,\n",
    "    CardioidFamily,\n",
    ")\n",
    "from scipy.io import wavfile\n",
    "from scipy.signal import resample\n",
    "from playsound import playsound\n",
    "from os import listdir\n",
    "from os.path import isfile, join"
   ]
  },
  {
   "cell_type": "markdown",
   "metadata": {},
   "source": [
    "### Build Anechoic Simulation Room"
   ]
  },
  {
   "cell_type": "code",
   "execution_count": 545,
   "metadata": {},
   "outputs": [],
   "source": [
    "fs = 48000 # audio sampling frequency - global (set to freq of input file)\n",
    "\n",
    "room_x = 10 # stage width\n",
    "room_y = 10 # room length\n",
    "order = 0 # reflection order\n",
    "sigma2_n = 5e-7 # microphone noise variance estimate\n",
    "v_sound = 343.0 # speed of sound in air\n",
    "\n",
    "m = pra.make_materials(\n",
    "    ceiling=\"hard_surface\",\n",
    "    floor=\"stage_floor\",\n",
    "    east=\"brickwork\",\n",
    "    west=\"brickwork\",\n",
    "    north=\"brickwork\",\n",
    "    south=\"brickwork\",\n",
    ") # materials of each surface of room, defines signal absorption\n",
    "\n",
    "room = pra.ShoeBox([room_x, room_y], fs=fs, materials=m, max_order=order, air_absorption=True, ray_tracing=False)"
   ]
  },
  {
   "cell_type": "markdown",
   "metadata": {},
   "source": [
    "### Place mics"
   ]
  },
  {
   "cell_type": "code",
   "execution_count": 546,
   "metadata": {},
   "outputs": [
    {
     "data": {
      "text/plain": [
       "<pyroomacoustics.room.ShoeBox at 0x16b42d370>"
      ]
     },
     "execution_count": 546,
     "metadata": {},
     "output_type": "execute_result"
    }
   ],
   "source": [
    "# design parameters of array\n",
    "array_loc = [5, 0.1] # x/y location of array center\n",
    "n_mics = 8 # number of microphones\n",
    "sep = 0.3 # microphone separation\n",
    "\n",
    "N = 1024 # fft length - defines N/2 + 1 frequency bands\n",
    "\n",
    "R = pra.linear_2D_array(center=array_loc, M=n_mics, phi=0, d=sep)\n",
    "mic_array = pra.Beamformer(R, room.fs, N) # uses omnidirectional mics by default\n",
    "room.add_microphone_array(mic_array)"
   ]
  },
  {
   "cell_type": "markdown",
   "metadata": {},
   "source": [
    "### Load Recorded Signals\n",
    "\n",
    "Stores them in microphone objects"
   ]
  },
  {
   "cell_type": "code",
   "execution_count": 547,
   "metadata": {},
   "outputs": [
    {
     "name": "stderr",
     "output_type": "stream",
     "text": [
      "/var/folders/_f/h8xwd2k15l36zgym21rpns740000gn/T/ipykernel_48653/1786311218.py:7: WavFileWarning: Chunk (non-data) not understood, skipping it.\n",
      "  rate, audio = wavfile.read(file_str)\n"
     ]
    }
   ],
   "source": [
    "mic_signals_folder = '../array_samples/y=2,x=1_twosource_3'\n",
    "mic_signals_filenames = [f for f in listdir(mic_signals_folder) if isfile(join(mic_signals_folder, f))]\n",
    "mic_signals_filenames.sort()\n",
    "\n",
    "for i in range(n_mics):\n",
    "    file_str = mic_signals_folder + '/' + mic_signals_filenames[i]\n",
    "    rate, audio = wavfile.read(file_str)\n",
    "\n",
    "    # ensure sampling rates of all audio matches\n",
    "    if rate != fs:\n",
    "        num_samples = int(len(audio) * fs / rate)\n",
    "        audio = resample(audio, num_samples)\n",
    "\n",
    "    if i == 0:\n",
    "        mic_signals = np.zeros((n_mics, len(audio)))\n",
    "\n",
    "    mic_signals[n_mics-1-i, :] = audio\n",
    "\n",
    "room.mic_array.signals = mic_signals"
   ]
  },
  {
   "cell_type": "code",
   "execution_count": 548,
   "metadata": {},
   "outputs": [
    {
     "name": "stdout",
     "output_type": "stream",
     "text": [
      "[[20654616.67361348 20853777.35752959 -1806615.68615707  4434510.54805085\n",
      "  17098811.67104688 17176958.74636023  7569512.09324695 11088844.48604913]\n",
      " [20853777.35752959 24254335.6018059  -3170560.9428739   4274536.40960728\n",
      "  19087873.08377382 19476884.58633859  7633524.78225087 13069792.12077625]\n",
      " [-1806615.68615707 -3170560.9428739   1932154.73639526    76418.01201197\n",
      "  -2172365.98675381 -2299102.04576704  1209572.20645598  -747224.8825734 ]\n",
      " [ 4434510.54805085  4274536.40960728    76418.01201197  1147460.76092441\n",
      "   3644878.83984727  3639996.18505778  2326827.66914054  2627741.64885794]\n",
      " [17098811.67104688 19087873.08377382 -2172365.98675381  3644878.83984727\n",
      "  15379137.22296358 15600003.06103821  6727424.5103848  10471425.01964006]\n",
      " [17176958.74636023 19476884.58633859 -2299102.04576704  3639996.18505778\n",
      "  15600003.06103821 15942467.3266899   6927256.38703477 10792236.44595378]\n",
      " [ 7569512.09324695  7633524.78225087  1209572.20645598  2326827.66914054\n",
      "   6727424.5103848   6927256.38703477  7492986.59002443  6475870.40648233]\n",
      " [11088844.48604913 13069792.12077625  -747224.8825734   2627741.64885794\n",
      "  10471425.01964006 10792236.44595378  6475870.40648233  8508525.02487397]]\n"
     ]
    },
    {
     "name": "stderr",
     "output_type": "stream",
     "text": [
      "/var/folders/_f/h8xwd2k15l36zgym21rpns740000gn/T/ipykernel_48653/4130779679.py:8: WavFileWarning: Chunk (non-data) not understood, skipping it.\n",
      "  rate, audio = wavfile.read(file_str)\n"
     ]
    }
   ],
   "source": [
    "# compute noise covariance matrix\n",
    "room_signals_folder = '../array_samples/twosource_room'\n",
    "room_signals_filenames = [f for f in listdir(room_signals_folder) if isfile(join(room_signals_folder, f))]\n",
    "room_signals_filenames.sort()\n",
    "\n",
    "for i in range(n_mics):\n",
    "    file_str = room_signals_folder + '/' + room_signals_filenames[i]\n",
    "    rate, audio = wavfile.read(file_str)\n",
    "\n",
    "    # ensure sampling rates of all audio matches\n",
    "    if rate != fs:\n",
    "        num_samples = int(len(audio) * fs / rate)\n",
    "        audio = resample(audio, num_samples)\n",
    "\n",
    "    if i == 0:\n",
    "        room_signals = np.zeros((n_mics, len(audio)))\n",
    "\n",
    "    room_signals[n_mics-1-i, :] = audio\n",
    "\n",
    "snapshot = room_signals[:, :]\n",
    "\n",
    "diag_loading = 0 # ensures nonzero eigenvalues\n",
    "R_n = (1.0/snapshot.shape[1]) * np.cov(snapshot) + diag_loading * (np.eye(n_mics))\n",
    "print(R_n)"
   ]
  },
  {
   "cell_type": "markdown",
   "metadata": {},
   "source": [
    "### Isolate sources with beamforming"
   ]
  },
  {
   "cell_type": "code",
   "execution_count": 549,
   "metadata": {},
   "outputs": [
    {
     "name": "stdout",
     "output_type": "stream",
     "text": [
      "source 1 average SINR: 8.95\n",
      "source 2 average SINR: 8.66\n"
     ]
    }
   ],
   "source": [
    "# add guessed locations of sources to room\n",
    "n_source = 2\n",
    "doa_azimuths = np.array([np.arctan2(2,1), np.arctan2(2,-1)]) # ground truth\n",
    "# doa_azimuths = np.array([55.86206897, 93.10344828])*np.pi/180.0 # DOA estimate\n",
    "\n",
    "# add guessed locations of sources to room\n",
    "guess_dist = 3 # guessed distance away from array - choose far distance for precise beam\n",
    "guess_source_locs = np.empty((2, n_source))\n",
    "\n",
    "for i in range(n_source):\n",
    "    guess_source_locs[0, i] = array_loc[0] + guess_dist*np.cos(doa_azimuths[i])\n",
    "    guess_source_locs[1, i] = array_loc[1] + guess_dist*np.sin(doa_azimuths[i])\n",
    "\n",
    "# Beamforming algorithm for each source\n",
    "out_filepath = '../output_samples/physical_tests'\n",
    "\n",
    "for i in range(guess_source_locs.shape[1]):\n",
    "    current_interferers = guess_source_locs\n",
    "    current_interferers = np.delete(current_interferers, i, 1)\n",
    "\n",
    "    interf = pra.soundsource.SoundSource([0, 0])\n",
    "    interf.images = current_interferers\n",
    "\n",
    "    source = pra.soundsource.SoundSource([0, 0])\n",
    "    source.images = np.array([[guess_source_locs[0, i]], [guess_source_locs[1, i]]])\n",
    "\n",
    "    mic_array.rake_max_sinr_weights(\n",
    "        source=source,\n",
    "        interferer=interf,\n",
    "        R_n=R_n # estimated noise covariance matrix\n",
    "    )\n",
    "    mic_array.filters_from_weights() # process with time domain filters for now, can also use FD directly\n",
    "\n",
    "    # compute SIR, averaged across all frequency bands\n",
    "    SIR_sum = 0\n",
    "    for f in mic_array.frequencies:\n",
    "        current_SIR = mic_array.snr(source, interf, f, dB=True)\n",
    "        if math.isnan(current_SIR) == False:\n",
    "            SIR_sum += current_SIR\n",
    "    SIR_avg = SIR_sum / len(mic_array.frequencies)\n",
    "    print(f'source {i+1} average SINR: {SIR_avg:.2f}')\n",
    "\n",
    "    # save processed sound as output\n",
    "    output = mic_array.process()\n",
    "    out_norm = pra.normalize(output)\n",
    "    wavfile.write(out_filepath + '/isolated_src' + str(i+1) + '.wav', fs, out_norm)"
   ]
  },
  {
   "cell_type": "markdown",
   "metadata": {},
   "source": [
    "### Evaluate performance"
   ]
  },
  {
   "cell_type": "code",
   "execution_count": 550,
   "metadata": {},
   "outputs": [
    {
     "data": {
      "image/png": "[encoded data removed]",
      "text/plain": [
       "<Figure size 640x480 with 1 Axes>"
      ]
     },
     "metadata": {},
     "output_type": "display_data"
    }
   ],
   "source": [
    "# plot peam pattern\n",
    "fig, ax = room.plot(freq=[1000], img_order=0)"
   ]
  }
 ],
 "metadata": {
  "kernelspec": {
   "display_name": "base",
   "language": "python",
   "name": "python3"
  },
  "language_info": {
   "codemirror_mode": {
    "name": "ipython",
    "version": 3
   },
   "file_extension": ".py",
   "mimetype": "text/x-python",
   "name": "python",
   "nbconvert_exporter": "python",
   "pygments_lexer": "ipython3",
   "version": "3.12.2"
  }
 },
 "nbformat": 4,
 "nbformat_minor": 2
}
