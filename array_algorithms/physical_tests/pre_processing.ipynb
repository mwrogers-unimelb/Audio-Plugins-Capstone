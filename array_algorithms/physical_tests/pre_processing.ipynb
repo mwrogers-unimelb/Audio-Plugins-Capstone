{
 "cells": [
  {
   "cell_type": "markdown",
   "metadata": {},
   "source": [
    "Pre-Processing of audio signals"
   ]
  },
  {
   "cell_type": "code",
   "execution_count": 39,
   "metadata": {},
   "outputs": [],
   "source": [
    "import numpy as np\n",
    "import matplotlib.pyplot as plt\n",
    "import math\n",
    "import pyroomacoustics as pra\n",
    "import noisereduce as nr\n",
    "from pyroomacoustics.directivities import (\n",
    "    DirectivityPattern,\n",
    "    DirectionVector,\n",
    "    CardioidFamily,\n",
    ")\n",
    "from pyroomacoustics.doa import circ_dist\n",
    "from scipy.io import wavfile\n",
    "from scipy.signal import correlate\n",
    "from playsound import playsound\n",
    "from os import listdir\n",
    "from os.path import isfile, join\n"
   ]
  },
  {
   "cell_type": "code",
   "execution_count": 174,
   "metadata": {},
   "outputs": [
    {
     "name": "stderr",
     "output_type": "stream",
     "text": [
      "/var/folders/4t/rx6h__y129d95fxhwcb9st6w0000gn/T/ipykernel_4242/996280024.py:5: WavFileWarning: Chunk (non-data) not understood, skipping it.\n",
      "  fs, noise = wavfile.read(file)\n",
      "/var/folders/4t/rx6h__y129d95fxhwcb9st6w0000gn/T/ipykernel_4242/996280024.py:9: WavFileWarning: Chunk (non-data) not understood, skipping it.\n",
      "  fs, signal = wavfile.read(file)\n"
     ]
    }
   ],
   "source": [
    "audio_file_path = \"/Users/nharrison/DOA_Testing/y=2,x=-1/\"\n",
    "\n",
    "\n",
    "file = \"/Users/nharrison/DOA_Testing/Room/1.wav\"\n",
    "fs, noise = wavfile.read(file)\n",
    "\n",
    "for signalindex in range(1,8+1):\n",
    "    file = audio_file_path + str(signalindex) + \".wav\"\n",
    "    fs, signal = wavfile.read(file)\n",
    "    denoised = nr.reduce_noise(y=signal,sr=fs,y_noise=noise)\n",
    "    if signalindex == 1:\n",
    "        signals = np.zeros((8, len(signal)))\n",
    "        denoised_signals = np.zeros((8, len(signal)))\n",
    "\n",
    "    signals[signalindex-1, :] = signal\n",
    "    denoised_signals[signalindex-1,:] = denoised\n",
    "    wavfile.write(\"/Users/nharrison/denoised\"+str(signalindex)+\".wav\", fs, denoised)\n",
    "\n",
    "#reduced = nr.reduce_noise(y=signalplusnoise,sr=f_sample,y_noise=noise)\n",
    "\n",
    "#audio_normalized = audio.astype(np.float32) / np.iinfo(np.int32).max\n",
    "#plt.plot(signalplusnoise)\n",
    "#plt.plot(reduced)\n",
    "#wavfile.write(\"/Users/nharrison/denoised.wav\", f_sample, reduced)"
   ]
  },
  {
   "cell_type": "code",
   "execution_count": 38,
   "metadata": {},
   "outputs": [
    {
     "name": "stdout",
     "output_type": "stream",
     "text": [
      "[154.28571429]\n"
     ]
    }
   ],
   "source": [
    "# array geometry\n",
    "R = pra.linear_2D_array(center=[0,0], M=8, phi=0, d=0.3)\n",
    "\n",
    "# fourier transform\n",
    "N = 1024\n",
    "X = np.array(\n",
    "    [\n",
    "        pra.transform.stft.analysis(denoised, N, N // 2).T\n",
    "        for denoised in denoised_signals\n",
    "    ]\n",
    ")\n",
    "\n",
    "# NormMUSIC algorithm selected, recommended over MUSIC\n",
    "n_source = 1\n",
    "doa = pra.doa.normmusic.NormMUSIC(R, fs, N, num_src=n_source, mode='near', azimuth=np.linspace(0, 180, 50)*np.pi/180)\n",
    "doa.locate_sources(X, freq_bins=np.arange(1, N))\n",
    "doa_azimuths = doa.azimuth_recon\n",
    "\n",
    "print(180-doa_azimuths*180/np.pi)"
   ]
  },
  {
   "cell_type": "markdown",
   "metadata": {},
   "source": []
  },
  {
   "cell_type": "code",
   "execution_count": 175,
   "metadata": {},
   "outputs": [
    {
     "name": "stdout",
     "output_type": "stream",
     "text": [
      "41.98250728862973\n",
      "0.0008746355685131195\n",
      "141.81712258771194\n"
     ]
    },
    {
     "data": {
      "image/png": "[encoded data removed]",
      "text/plain": [
       "<Figure size 640x480 with 1 Axes>"
      ]
     },
     "metadata": {},
     "output_type": "display_data"
    }
   ],
   "source": [
    "# Try cross-correlation with two mics\n",
    "nsamples = len(signal)\n",
    "d=0.3\n",
    "maxtau = d/343\n",
    "maxindex = maxtau*fs\n",
    "print(maxindex)\n",
    "print(maxtau)\n",
    "signal1 = denoised_signals[2,:]\n",
    "signal2 = denoised_signals[3,:]\n",
    "signal3 = denoised_signals[4,:]\n",
    "signal4 = denoised_signals[5,:]\n",
    "signal1 = (signal1) / np.std(signal1)\n",
    "signal2 = (signal2) / np.std(signal2)\n",
    "signal3 = (signal3) / np.std(signal3)\n",
    "signal4 = (signal4) / np.std(signal4)\n",
    "\n",
    "z = correlate(signal1,signal2)\n",
    "zvalid = z[nsamples-40:nsamples+40]\n",
    "taurange = 1/fs*np.arange(-len(signal1)+1,len(signal1))\n",
    "tauvalid = taurange[nsamples-40:nsamples+40]\n",
    "thetavalid = np.arccos(343*tauvalid/d)\n",
    "#plt.plot(taurange[nsamples-40:nsamples+40],z[nsamples-40:nsamples+40])\n",
    "#delay_index = np.argmax(z[nsamples-40:nsamples+40])\n",
    "#print(delay_index)\n",
    "#tau = taurange[nsamples-40:nsamples+40][delay_index]\n",
    "#print(tau)\n",
    "#l = 343*tau\n",
    "#print(l)\n",
    "#theta = np.arccos(l/d)\n",
    "#print(180/np.pi*theta)\n",
    "plt.plot(thetavalid*180/np.pi,zvalid)\n",
    "theta = thetavalid[np.argmax(zvalid)]\n",
    "print(180-theta*180/np.pi)"
   ]
  },
  {
   "cell_type": "code",
   "execution_count": 180,
   "metadata": {},
   "outputs": [
    {
     "ename": "TypeError",
     "evalue": "slice indices must be integers or None or have an __index__ method",
     "output_type": "error",
     "traceback": [
      "\u001b[0;31m---------------------------------------------------------------------------\u001b[0m",
      "\u001b[0;31mTypeError\u001b[0m                                 Traceback (most recent call last)",
      "Cell \u001b[0;32mIn[180], line 6\u001b[0m\n\u001b[1;32m      3\u001b[0m packagesize \u001b[38;5;241m=\u001b[39m nsamples\u001b[38;5;241m/\u001b[39m\u001b[38;5;241m/\u001b[39mnpackages\u001b[38;5;241m*\u001b[39m\u001b[38;5;241m0.6\u001b[39m\n\u001b[1;32m      4\u001b[0m nstep \u001b[38;5;241m=\u001b[39m nsamples\u001b[38;5;241m/\u001b[39m\u001b[38;5;241m/\u001b[39mnpackages\n\u001b[1;32m      5\u001b[0m signal1packages \u001b[38;5;241m=\u001b[39m np\u001b[38;5;241m.\u001b[39marray(\n\u001b[0;32m----> 6\u001b[0m     [\n\u001b[1;32m      7\u001b[0m         signal1[nstep\u001b[38;5;241m*\u001b[39mi:nstep\u001b[38;5;241m*\u001b[39mi\u001b[38;5;241m+\u001b[39mpackagesize]\n\u001b[1;32m      8\u001b[0m         \u001b[38;5;28;01mfor\u001b[39;00m i \u001b[38;5;129;01min\u001b[39;00m \u001b[38;5;28mrange\u001b[39m(npackages)\n\u001b[1;32m      9\u001b[0m     ]\n\u001b[1;32m     10\u001b[0m )\n\u001b[1;32m     11\u001b[0m signal2packages \u001b[38;5;241m=\u001b[39m np\u001b[38;5;241m.\u001b[39marray(\n\u001b[1;32m     12\u001b[0m     [\n\u001b[1;32m     13\u001b[0m         signal2[nstep\u001b[38;5;241m*\u001b[39mi:nstep\u001b[38;5;241m*\u001b[39mi\u001b[38;5;241m+\u001b[39mpackagesize]\n\u001b[1;32m     14\u001b[0m         \u001b[38;5;28;01mfor\u001b[39;00m i \u001b[38;5;129;01min\u001b[39;00m \u001b[38;5;28mrange\u001b[39m(npackages)\n\u001b[1;32m     15\u001b[0m     ]\n\u001b[1;32m     16\u001b[0m )\n\u001b[1;32m     17\u001b[0m signal3packages \u001b[38;5;241m=\u001b[39m np\u001b[38;5;241m.\u001b[39marray(\n\u001b[1;32m     18\u001b[0m     [\n\u001b[1;32m     19\u001b[0m         signal3[nstep\u001b[38;5;241m*\u001b[39mi:nstep\u001b[38;5;241m*\u001b[39mi\u001b[38;5;241m+\u001b[39mpackagesize]\n\u001b[1;32m     20\u001b[0m         \u001b[38;5;28;01mfor\u001b[39;00m i \u001b[38;5;129;01min\u001b[39;00m \u001b[38;5;28mrange\u001b[39m(npackages)\n\u001b[1;32m     21\u001b[0m     ]\n\u001b[1;32m     22\u001b[0m )\n",
      "Cell \u001b[0;32mIn[180], line 7\u001b[0m, in \u001b[0;36m<listcomp>\u001b[0;34m(.0)\u001b[0m\n\u001b[1;32m      3\u001b[0m packagesize \u001b[38;5;241m=\u001b[39m nsamples\u001b[38;5;241m/\u001b[39m\u001b[38;5;241m/\u001b[39mnpackages\u001b[38;5;241m*\u001b[39m\u001b[38;5;241m0.6\u001b[39m\n\u001b[1;32m      4\u001b[0m nstep \u001b[38;5;241m=\u001b[39m nsamples\u001b[38;5;241m/\u001b[39m\u001b[38;5;241m/\u001b[39mnpackages\n\u001b[1;32m      5\u001b[0m signal1packages \u001b[38;5;241m=\u001b[39m np\u001b[38;5;241m.\u001b[39marray(\n\u001b[1;32m      6\u001b[0m     [\n\u001b[0;32m----> 7\u001b[0m         \u001b[43msignal1\u001b[49m\u001b[43m[\u001b[49m\u001b[43mnstep\u001b[49m\u001b[38;5;241;43m*\u001b[39;49m\u001b[43mi\u001b[49m\u001b[43m:\u001b[49m\u001b[43mnstep\u001b[49m\u001b[38;5;241;43m*\u001b[39;49m\u001b[43mi\u001b[49m\u001b[38;5;241;43m+\u001b[39;49m\u001b[43mpackagesize\u001b[49m\u001b[43m]\u001b[49m\n\u001b[1;32m      8\u001b[0m         \u001b[38;5;28;01mfor\u001b[39;00m i \u001b[38;5;129;01min\u001b[39;00m \u001b[38;5;28mrange\u001b[39m(npackages)\n\u001b[1;32m      9\u001b[0m     ]\n\u001b[1;32m     10\u001b[0m )\n\u001b[1;32m     11\u001b[0m signal2packages \u001b[38;5;241m=\u001b[39m np\u001b[38;5;241m.\u001b[39marray(\n\u001b[1;32m     12\u001b[0m     [\n\u001b[1;32m     13\u001b[0m         signal2[nstep\u001b[38;5;241m*\u001b[39mi:nstep\u001b[38;5;241m*\u001b[39mi\u001b[38;5;241m+\u001b[39mpackagesize]\n\u001b[1;32m     14\u001b[0m         \u001b[38;5;28;01mfor\u001b[39;00m i \u001b[38;5;129;01min\u001b[39;00m \u001b[38;5;28mrange\u001b[39m(npackages)\n\u001b[1;32m     15\u001b[0m     ]\n\u001b[1;32m     16\u001b[0m )\n\u001b[1;32m     17\u001b[0m signal3packages \u001b[38;5;241m=\u001b[39m np\u001b[38;5;241m.\u001b[39marray(\n\u001b[1;32m     18\u001b[0m     [\n\u001b[1;32m     19\u001b[0m         signal3[nstep\u001b[38;5;241m*\u001b[39mi:nstep\u001b[38;5;241m*\u001b[39mi\u001b[38;5;241m+\u001b[39mpackagesize]\n\u001b[1;32m     20\u001b[0m         \u001b[38;5;28;01mfor\u001b[39;00m i \u001b[38;5;129;01min\u001b[39;00m \u001b[38;5;28mrange\u001b[39m(npackages)\n\u001b[1;32m     21\u001b[0m     ]\n\u001b[1;32m     22\u001b[0m )\n",
      "\u001b[0;31mTypeError\u001b[0m: slice indices must be integers or None or have an __index__ method"
     ]
    }
   ],
   "source": [
    "# now try to split into packages\n",
    "npackages = 10\n",
    "packagesize = nsamples//npackages*0.6\n",
    "nstep = nsamples//npackages\n",
    "signal1packages = np.array(\n",
    "    [\n",
    "        signal1[nstep*i:nstep*i+packagesize]\n",
    "        for i in range(npackages)\n",
    "    ]\n",
    ")\n",
    "signal2packages = np.array(\n",
    "    [\n",
    "        signal2[nstep*i:nstep*i+packagesize]\n",
    "        for i in range(npackages)\n",
    "    ]\n",
    ")\n",
    "signal3packages = np.array(\n",
    "    [\n",
    "        signal3[nstep*i:nstep*i+packagesize]\n",
    "        for i in range(npackages)\n",
    "    ]\n",
    ")\n",
    "signal4packages = np.array(\n",
    "    [\n",
    "        signal4[nstep*i:nstep*i+packagesize]\n",
    "        for i in range(npackages)\n",
    "    ]\n",
    ")\n",
    "\n",
    "print(signal1packages[1,:].shape)\n",
    "\n",
    "thetas = np.zeros(npackages)\n",
    "for i in range(npackages):\n",
    "    z = correlate(signal1packages[i,:],signal2packages[i,:])\n",
    "    \n",
    "    zvalid = z[packagesize-40:packagesize+40]\n",
    "    taurange = 1/fs*np.arange(-packagesize+1,packagesize)\n",
    "    tauvalid = taurange[packagesize-40:packagesize+40]\n",
    "    thetavalid = np.arccos(343*tauvalid/d)\n",
    "    theta = thetavalid[np.argmax(zvalid)]\n",
    "    thetas[i] = theta\n",
    "\n",
    "#print(thetas*180/np.pi)\n",
    "#plt.plot(180-thetas*180/np.pi)\n",
    "thetas = np.zeros(npackages)\n",
    "for i in range(npackages):\n",
    "    z1 = correlate(signal1packages[i,:],signal2packages[i,:])\n",
    "    z2 = correlate(signal2packages[i,:],signal3packages[i,:])\n",
    "    z3 = correlate(signal3packages[i,:],signal4packages[i,:])\n",
    "    z = z1+z2+z3\n",
    "    \n",
    "    zvalid = z[packagesize-40:packagesize+40]\n",
    "    taurange = 1/fs*np.arange(-packagesize+1,packagesize)\n",
    "    tauvalid = taurange[packagesize-40:packagesize+40]\n",
    "    thetavalid = np.arccos(343*tauvalid/d)\n",
    "    theta = thetavalid[np.argmax(zvalid)]\n",
    "    thetas[i] = theta\n",
    "\n",
    "#print(thetas*180/np.pi)\n",
    "plt.plot(180-thetas*180/np.pi)"
   ]
  }
 ],
 "metadata": {
  "kernelspec": {
   "display_name": "Python 3",
   "language": "python",
   "name": "python3"
  },
  "language_info": {
   "codemirror_mode": {
    "name": "ipython",
    "version": 3
   },
   "file_extension": ".py",
   "mimetype": "text/x-python",
   "name": "python",
   "nbconvert_exporter": "python",
   "pygments_lexer": "ipython3",
   "version": "3.8.19"
  }
 },
 "nbformat": 4,
 "nbformat_minor": 2
}
